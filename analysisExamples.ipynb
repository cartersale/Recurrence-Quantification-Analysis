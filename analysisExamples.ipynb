{
 "cells": [
  {
   "cell_type": "markdown",
   "metadata": {},
   "source": [
    "## Auto Recurrence Analysis Example"
   ]
  },
  {
   "cell_type": "code",
   "execution_count": null,
   "metadata": {},
   "outputs": [],
   "source": [
    "import pandas as pd\n",
    "from autoRQA import autoRQA\n",
    "\n",
    "#Set the filename\n",
    "filename = 'exampleData/PostureData.csv'\n",
    "\n",
    "# Import data\n",
    "data = pd.read_csv(filename, header=None).iloc[:, 0].values\n",
    "\n",
    "# Set parameters\n",
    "params = {\n",
    "    'norm': 1,                          # Normalize to unit interval\n",
    "    'eDim': 3,                          # Embedding dimension\n",
    "    'tLag': 15,                         # Time lag\n",
    "    'rescaleNorm': 1,                   # Rescale using mean distance\n",
    "    'radius': 0.1,                      # Recurrence radius\n",
    "    'tw': 2,                            # Theiler window\n",
    "    'minl': 2,                          # Minimum line length\n",
    "    'plotMode': 'rp-timeseries',        # Recurrence plot with time series\n",
    "    'pointSize': 2,                     # Size of points in the plot\n",
    "    'showMetrics': True,                # Show metrics in the console\n",
    "    'doStatsFile': False                # Write statistics to file\n",
    "}\n",
    "\n",
    "# Perform Auto Recurrence Quantification Analysis\n",
    "autoRQA(data, params)"
   ]
  },
  {
   "cell_type": "markdown",
   "metadata": {},
   "source": [
    "## Cross Recurrence Analysis Example"
   ]
  },
  {
   "cell_type": "code",
   "execution_count": null,
   "metadata": {},
   "outputs": [],
   "source": [
    "import pandas as pd\n",
    "from crossRQA import crossRQA\n",
    "\n",
    "# Load data from file\n",
    "filename = 'exampleData/RockingChairData.csv'\n",
    "\n",
    "try:\n",
    "    data = pd.read_csv(filename, header=None)  # Load data without headers\n",
    "    data1 = data.iloc[:, 0].values  # First column\n",
    "    data2 = data.iloc[:, 1].values  # Second column\n",
    "except Exception as e:\n",
    "    print(f\"Error loading file: {e}\")\n",
    "    exit()\n",
    "\n",
    "# Parameters\n",
    "params = {\n",
    "    'norm': 1,                          # Normalize to unit interval\n",
    "    'eDim': 3,                          # Embedding dimension\n",
    "    'tLag': 15,                         # Time lag\n",
    "    'rescaleNorm': 1,                   # Rescale using mean distance\n",
    "    'radius': 0.1,                      # Recurrence radius\n",
    "    'tw': 2,                            # Theiler window\n",
    "    'minl': 2,                          # Minimum line length\n",
    "    'plotMode': 'rp-timeseries',        # Recurrence plot with time series\n",
    "    'pointSize': 2,                     # Size of points in the plot\n",
    "    'showMetrics': True,                # Show metrics in the console\n",
    "    'doStatsFile': False                # Write statistics to file\n",
    "}\n",
    "\n",
    "# Perform Cross RQA\n",
    "crossRQA(data1, data2, params)\n"
   ]
  },
  {
   "cell_type": "markdown",
   "metadata": {},
   "source": [
    "## Categorical Recurrence Analysis Example"
   ]
  },
  {
   "cell_type": "code",
   "execution_count": null,
   "metadata": {},
   "outputs": [],
   "source": [
    "import pandas as pd\n",
    "import numpy as np\n",
    "from autoRQA import autoRQA\n",
    "\n",
    "#Set the filename\n",
    "filename = 'exampleData/Elvis.csv'\n",
    "\n",
    "# Import data\n",
    "data = pd.read_csv(filename, header=None, sep='\\t').iloc[:, 0].astype(np.float32).values\n",
    "\n",
    "# Set parameters\n",
    "params = {\n",
    "    'norm': 0,                          # Normalize to unit interval\n",
    "    'eDim': 1,                          # Embedding dimension\n",
    "    'tLag': 1,                          # Time lag\n",
    "    'rescaleNorm': 1,                   # Rescale using mean distance\n",
    "    'radius': 0.001,                    # Recurrence radius\n",
    "    'tw': 2,                            # Theiler window\n",
    "    'minl': 2,                          # Minimum line length\n",
    "    'plotMode': 'rp-timeseries',        # Recurrence plot with time series\n",
    "    'pointSize': 2,                     # Size of points in the plot\n",
    "    'showMetrics': True,                # Show metrics in the console\n",
    "    'doStatsFile': False                # Write statistics to file\n",
    "}\n",
    "\n",
    "# Perform Auto Recurrence Quantification Analysis\n",
    "autoRQA(data, params)"
   ]
  }
 ],
 "metadata": {
  "kernelspec": {
   "display_name": "rqa",
   "language": "python",
   "name": "python3"
  },
  "language_info": {
   "codemirror_mode": {
    "name": "ipython",
    "version": 3
   },
   "file_extension": ".py",
   "mimetype": "text/x-python",
   "name": "python",
   "nbconvert_exporter": "python",
   "pygments_lexer": "ipython3",
   "version": "3.11.9"
  }
 },
 "nbformat": 4,
 "nbformat_minor": 2
}
