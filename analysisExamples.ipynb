{
 "cells": [
  {
   "cell_type": "markdown",
   "metadata": {},
   "source": [
    "## Auto Recurrence Analysis Example"
   ]
  },
  {
   "cell_type": "code",
   "execution_count": 5,
   "metadata": {},
   "outputs": [
    {
     "ename": "ModuleNotFoundError",
     "evalue": "No module named 'utils.utils'",
     "output_type": "error",
     "traceback": [
      "\u001b[1;31m---------------------------------------------------------------------------\u001b[0m",
      "\u001b[1;31mModuleNotFoundError\u001b[0m                       Traceback (most recent call last)",
      "Cell \u001b[1;32mIn[5], line 2\u001b[0m\n\u001b[0;32m      1\u001b[0m \u001b[38;5;28;01mimport\u001b[39;00m \u001b[38;5;21;01mpandas\u001b[39;00m \u001b[38;5;28;01mas\u001b[39;00m \u001b[38;5;21;01mpd\u001b[39;00m\n\u001b[1;32m----> 2\u001b[0m \u001b[38;5;28;01mfrom\u001b[39;00m \u001b[38;5;21;01mautoRQA\u001b[39;00m \u001b[38;5;28;01mimport\u001b[39;00m autoRQA\n\u001b[0;32m      3\u001b[0m \u001b[38;5;28;01mimport\u001b[39;00m \u001b[38;5;21;01mos\u001b[39;00m\u001b[38;5;241m,\u001b[39m \u001b[38;5;21;01msys\u001b[39;00m\n\u001b[0;32m      4\u001b[0m sys\u001b[38;5;241m.\u001b[39mpath\u001b[38;5;241m.\u001b[39minsert(\u001b[38;5;241m0\u001b[39m, os\u001b[38;5;241m.\u001b[39mgetcwd())\n",
      "File \u001b[1;32mc:\\Github Repos\\Recurrence-Quantification-Analysis\\autoRQA.py:1\u001b[0m\n\u001b[1;32m----> 1\u001b[0m \u001b[38;5;28;01mfrom\u001b[39;00m \u001b[38;5;21;01mutils\u001b[39;00m \u001b[38;5;28;01mimport\u001b[39;00m norm_utils, plot_utils, output_io_utils\n\u001b[0;32m      2\u001b[0m \u001b[38;5;28;01mfrom\u001b[39;00m \u001b[38;5;21;01mutils\u001b[39;00m \u001b[38;5;28;01mimport\u001b[39;00m rqa_utils_cpp\n\u001b[0;32m      4\u001b[0m \u001b[38;5;28;01mdef\u001b[39;00m \u001b[38;5;21mautoRQA\u001b[39m(data, params):\n",
      "File \u001b[1;32m~\\AppData\\Local\\Packages\\PythonSoftwareFoundation.Python.3.11_qbz5n2kfra8p0\\LocalCache\\local-packages\\Python311\\site-packages\\utils\\__init__.py:1\u001b[0m\n\u001b[1;32m----> 1\u001b[0m \u001b[38;5;28;01mfrom\u001b[39;00m \u001b[38;5;21;01m.\u001b[39;00m\u001b[38;5;21;01mutils\u001b[39;00m \u001b[38;5;28;01mimport\u001b[39;00m \u001b[38;5;241m*\u001b[39m\n\u001b[0;32m      2\u001b[0m \u001b[38;5;28;01mfrom\u001b[39;00m \u001b[38;5;21;01m.\u001b[39;00m\u001b[38;5;21;01mplot_utils\u001b[39;00m \u001b[38;5;28;01mimport\u001b[39;00m \u001b[38;5;241m*\u001b[39m\n\u001b[0;32m      3\u001b[0m \u001b[38;5;28;01mfrom\u001b[39;00m \u001b[38;5;21;01m.\u001b[39;00m\u001b[38;5;21;01mmdrqa_utils\u001b[39;00m \u001b[38;5;28;01mimport\u001b[39;00m \u001b[38;5;241m*\u001b[39m\n",
      "\u001b[1;31mModuleNotFoundError\u001b[0m: No module named 'utils.utils'"
     ]
    }
   ],
   "source": [
    "import pandas as pd\n",
    "from autoRQA import autoRQA\n",
    "\n",
    "\n",
    "#Set the filename\n",
    "filename = 'exampleData/PostureData.csv'\n",
    "\n",
    "# Import data\n",
    "data = pd.read_csv(filename, header=None).iloc[:, 0].values\n",
    "\n",
    "# Set parameters\n",
    "params = {\n",
    "    'norm': 1,                          # Normalize to unit interval\n",
    "    'eDim': 3,                          # Embedding dimension\n",
    "    'tLag': 15,                         # Time lag\n",
    "    'rescaleNorm': 1,                   # Rescale using mean distance\n",
    "    'radius': 0.1,                      # Recurrence radius\n",
    "    'tw': 2,                            # Theiler window\n",
    "    'minl': 2,                          # Minimum line length\n",
    "    'plotMode': 'rp-timeseries',        # Recurrence plot with time series\n",
    "    'pointSize': 2,                     # Size of points in the plot\n",
    "    'showMetrics': True,                # Show metrics in the console\n",
    "    'doStatsFile': False                # Write statistics to file\n",
    "}\n",
    "\n",
    "# Perform Auto Recurrence Quantification Analysis\n",
    "autoRQA(data, params)"
   ]
  },
  {
   "cell_type": "markdown",
   "metadata": {},
   "source": [
    "## Cross Recurrence Analysis Example"
   ]
  },
  {
   "cell_type": "code",
   "execution_count": 1,
   "metadata": {},
   "outputs": [
    {
     "ename": "ModuleNotFoundError",
     "evalue": "No module named 'utils.utils'",
     "output_type": "error",
     "traceback": [
      "\u001b[1;31m---------------------------------------------------------------------------\u001b[0m",
      "\u001b[1;31mModuleNotFoundError\u001b[0m                       Traceback (most recent call last)",
      "Cell \u001b[1;32mIn[1], line 2\u001b[0m\n\u001b[0;32m      1\u001b[0m \u001b[38;5;28;01mimport\u001b[39;00m \u001b[38;5;21;01mpandas\u001b[39;00m \u001b[38;5;28;01mas\u001b[39;00m \u001b[38;5;21;01mpd\u001b[39;00m\n\u001b[1;32m----> 2\u001b[0m \u001b[38;5;28;01mfrom\u001b[39;00m \u001b[38;5;21;01mcrossRQA\u001b[39;00m \u001b[38;5;28;01mimport\u001b[39;00m crossRQA\n\u001b[0;32m      4\u001b[0m \u001b[38;5;66;03m# Load data from file\u001b[39;00m\n\u001b[0;32m      5\u001b[0m filename \u001b[38;5;241m=\u001b[39m \u001b[38;5;124m'\u001b[39m\u001b[38;5;124mexampleData/RockingChairData.csv\u001b[39m\u001b[38;5;124m'\u001b[39m\n",
      "File \u001b[1;32mc:\\Github Repos\\Recurrence-Quantification-Analysis\\crossRQA.py:1\u001b[0m\n\u001b[1;32m----> 1\u001b[0m \u001b[38;5;28;01mfrom\u001b[39;00m \u001b[38;5;21;01mutils\u001b[39;00m \u001b[38;5;28;01mimport\u001b[39;00m norm_utils, plot_utils, output_io_utils\n\u001b[0;32m      2\u001b[0m \u001b[38;5;28;01mfrom\u001b[39;00m \u001b[38;5;21;01mutils\u001b[39;00m \u001b[38;5;28;01mimport\u001b[39;00m rqa_utils_cpp\n\u001b[0;32m      4\u001b[0m \u001b[38;5;28;01mdef\u001b[39;00m \u001b[38;5;21mcrossRQA\u001b[39m(data1, data2, params):\n",
      "File \u001b[1;32m~\\AppData\\Local\\Packages\\PythonSoftwareFoundation.Python.3.11_qbz5n2kfra8p0\\LocalCache\\local-packages\\Python311\\site-packages\\utils\\__init__.py:1\u001b[0m\n\u001b[1;32m----> 1\u001b[0m \u001b[38;5;28;01mfrom\u001b[39;00m \u001b[38;5;21;01m.\u001b[39;00m\u001b[38;5;21;01mutils\u001b[39;00m \u001b[38;5;28;01mimport\u001b[39;00m \u001b[38;5;241m*\u001b[39m\n\u001b[0;32m      2\u001b[0m \u001b[38;5;28;01mfrom\u001b[39;00m \u001b[38;5;21;01m.\u001b[39;00m\u001b[38;5;21;01mplot_utils\u001b[39;00m \u001b[38;5;28;01mimport\u001b[39;00m \u001b[38;5;241m*\u001b[39m\n\u001b[0;32m      3\u001b[0m \u001b[38;5;28;01mfrom\u001b[39;00m \u001b[38;5;21;01m.\u001b[39;00m\u001b[38;5;21;01mmdrqa_utils\u001b[39;00m \u001b[38;5;28;01mimport\u001b[39;00m \u001b[38;5;241m*\u001b[39m\n",
      "\u001b[1;31mModuleNotFoundError\u001b[0m: No module named 'utils.utils'"
     ]
    }
   ],
   "source": [
    "import pandas as pd\n",
    "from crossRQA import crossRQA\n",
    "\n",
    "# Load data from file\n",
    "filename = 'exampleData/RockingChairData.csv'\n",
    "\n",
    "try:\n",
    "    data = pd.read_csv(filename, header=None)  # Load data without headers\n",
    "    data1 = data.iloc[:, 0].values  # First column\n",
    "    data2 = data.iloc[:, 1].values  # Second column\n",
    "except Exception as e:\n",
    "    print(f\"Error loading file: {e}\")\n",
    "    exit()\n",
    "\n",
    "# Parameters\n",
    "params = {\n",
    "    'norm': 1,                          # Normalize to unit interval\n",
    "    'eDim': 3,                          # Embedding dimension\n",
    "    'tLag': 15,                         # Time lag\n",
    "    'rescaleNorm': 1,                   # Rescale using mean distance\n",
    "    'radius': 0.1,                      # Recurrence radius\n",
    "    'tw': 2,                            # Theiler window\n",
    "    'minl': 2,                          # Minimum line length\n",
    "    'plotMode': 'rp-timeseries',        # Recurrence plot with time series\n",
    "    'pointSize': 2,                     # Size of points in the plot\n",
    "    'showMetrics': True,                # Show metrics in the console\n",
    "    'doStatsFile': False                # Write statistics to file\n",
    "}\n",
    "\n",
    "# Perform Cross RQA\n",
    "crossRQA(data1, data2, params)\n"
   ]
  },
  {
   "cell_type": "markdown",
   "metadata": {},
   "source": [
    "## Categorical Recurrence Analysis Example"
   ]
  },
  {
   "cell_type": "code",
   "execution_count": null,
   "metadata": {},
   "outputs": [],
   "source": [
    "import pandas as pd\n",
    "import numpy as np\n",
    "from autoRQA import autoRQA\n",
    "\n",
    "#Set the filename\n",
    "filename = 'exampleData/Elvis.csv'\n",
    "\n",
    "# Import data\n",
    "data = pd.read_csv(filename, header=None, sep='\\t').iloc[:, 0].astype(np.float32).values\n",
    "\n",
    "# Set parameters\n",
    "params = {\n",
    "    'norm': 0,                          # Normalize to unit interval\n",
    "    'eDim': 1,                          # Embedding dimension\n",
    "    'tLag': 1,                          # Time lag\n",
    "    'rescaleNorm': 1,                   # Rescale using mean distance\n",
    "    'radius': 0.001,                    # Recurrence radius\n",
    "    'tw': 2,                            # Theiler window\n",
    "    'minl': 2,                          # Minimum line length\n",
    "    'plotMode': 'rp-timeseries',        # Recurrence plot with time series\n",
    "    'pointSize': 2,                     # Size of points in the plot\n",
    "    'showMetrics': True,                # Show metrics in the console\n",
    "    'doStatsFile': False                # Write statistics to file\n",
    "}\n",
    "\n",
    "# Perform Auto Recurrence Quantification Analysis\n",
    "autoRQA(data, params)"
   ]
  }
 ],
 "metadata": {
  "kernelspec": {
   "display_name": "rqa",
   "language": "python",
   "name": "python3"
  },
  "language_info": {
   "codemirror_mode": {
    "name": "ipython",
    "version": 3
   },
   "file_extension": ".py",
   "mimetype": "text/x-python",
   "name": "python",
   "nbconvert_exporter": "python",
   "pygments_lexer": "ipython3",
   "version": "3.11.9"
  }
 },
 "nbformat": 4,
 "nbformat_minor": 2
}
