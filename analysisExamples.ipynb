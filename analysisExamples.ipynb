{
 "cells": [
  {
   "cell_type": "markdown",
   "metadata": {},
   "source": [
    "## Auto Recurrence Analysis Example"
   ]
  },
  {
   "cell_type": "code",
   "execution_count": 1,
   "metadata": {},
   "outputs": [
    {
     "name": "stdout",
     "output_type": "stream",
     "text": [
      "REC: 0.694 | DET: 30.730 | MAXLINE: 6.00\n",
      "Lines (mean): 2.21 | Lines (sd): 3020.00 | Lines (count): 3020.00\n",
      "ENTR: 0.809 | LAM: 0.495 | TT: 2.452\n",
      "Vmax: 11.00 | Divergence: 0.167 | TREND: -0.045 and -0.045\n"
     ]
    }
   ],
   "source": [
    "import pandas as pd\n",
    "from autoRQA import autoRQA\n",
    "\n",
    "#Set the filename\n",
    "filename = 'exampleData/PostureData.csv'\n",
    "\n",
    "# Import data\n",
    "data = pd.read_csv(filename, header=None).iloc[:, 0].values\n",
    "\n",
    "# Set parameters\n",
    "params = {\n",
    "    'norm': 1,\n",
    "    'eDim': 3,\n",
    "    'tLag': 15,\n",
    "    'rescaleNorm': 1,\n",
    "    'radius': 0.1,\n",
    "    'tw': 2,\n",
    "    'minl': 2,\n",
    "    'doPlots': False,\n",
    "    'plotMode': 'recurrence',\n",
    "    'phaseSpace': False,\n",
    "    'doStatsFile': False\n",
    "}\n",
    "\n",
    "# Perform Auto Recurrence Quantification Analysis\n",
    "autoRQA(data, params)"
   ]
  },
  {
   "cell_type": "markdown",
   "metadata": {},
   "source": [
    "## Cross Recurrence Example"
   ]
  },
  {
   "cell_type": "code",
   "execution_count": 1,
   "metadata": {},
   "outputs": [
    {
     "name": "stdout",
     "output_type": "stream",
     "text": [
      "REC: 0.902 | DET: 97.975 | MAXLINE: 201.00\n",
      "Lines (mean): 14.57 | Lines (sd): 7730.00 | Lines (count): 7730.00\n",
      "ENTR: 5.041 | LAM: 0.930 | TT: 2.647\n",
      "Vmax: 5.00 | Divergence: 0.005 | TREND: -0.054 and -0.248\n"
     ]
    }
   ],
   "source": [
    "import pandas as pd\n",
    "from crossRQA import crossRQA\n",
    "\n",
    "# Load data from file\n",
    "filename = 'exampleData/RockingChairData.csv'\n",
    "\n",
    "try:\n",
    "    data = pd.read_csv(filename, header=None)  # Load data without headers\n",
    "    data1 = data.iloc[:, 0].values  # First column\n",
    "    data2 = data.iloc[:, 1].values  # Second column\n",
    "except Exception as e:\n",
    "    print(f\"Error loading file: {e}\")\n",
    "    exit()\n",
    "\n",
    "# Parameters\n",
    "params = {\n",
    "    'norm': 1,          # Normalize to unit interval\n",
    "    'eDim': 3,          # Embedding dimension\n",
    "    'tLag': 15,         # Time lag\n",
    "    'rescaleNorm': 1,   # Rescale: 1=mean distance\n",
    "    'radius': 0.1,      # Recurrence radius\n",
    "    'minl': 2,          # Minimum line length\n",
    "    'doPlots': False,       # Generate plots\n",
    "    'plotMode': 'recurrence',  # Recurrence with phase space\n",
    "    'phaseSpace': False,  # Include phase space reconstruction\n",
    "    'doStatsFile': False     # Write stats to file\n",
    "}\n",
    "\n",
    "# Perform Cross RQA\n",
    "crossRQA(data1, data2, params)\n"
   ]
  },
  {
   "cell_type": "markdown",
   "metadata": {},
   "source": [
    "## Categorical RQA"
   ]
  },
  {
   "cell_type": "code",
   "execution_count": 16,
   "metadata": {},
   "outputs": [
    {
     "name": "stdout",
     "output_type": "stream",
     "text": [
      "REC: 9.370 | DET: 25.561 | MAXLINE: 20.00\n"
     ]
    }
   ],
   "source": [
    "import pandas as pd\n",
    "import numpy as np\n",
    "from autoRQA import autoRQA\n",
    "\n",
    "#Set the filename\n",
    "filename = 'exampleData/Elvis.csv'\n",
    "\n",
    "# Import data\n",
    "data = pd.read_csv(filename, header=None, sep='\\t').iloc[:, 0].astype(np.float32).values\n",
    "\n",
    "# Set parameters\n",
    "params = {\n",
    "    'norm': 0,\n",
    "    'eDim': 1,\n",
    "    'tLag': 1,\n",
    "    'rescaleNorm': 1,\n",
    "    'radius': 0.00001,\n",
    "    'tw': 2,\n",
    "    'minl': 2,\n",
    "    'doPlots': False,\n",
    "    'plotMode': 'recurrence',\n",
    "    'phaseSpace': False,\n",
    "    'doStatsFile': False\n",
    "}\n",
    "\n",
    "# Perform Auto Recurrence Quantification Analysis\n",
    "autoRQA(data, params)"
   ]
  }
 ],
 "metadata": {
  "kernelspec": {
   "display_name": "rqa",
   "language": "python",
   "name": "python3"
  },
  "language_info": {
   "codemirror_mode": {
    "name": "ipython",
    "version": 3
   },
   "file_extension": ".py",
   "mimetype": "text/x-python",
   "name": "python",
   "nbconvert_exporter": "python",
   "pygments_lexer": "ipython3",
   "version": "3.11.8"
  }
 },
 "nbformat": 4,
 "nbformat_minor": 2
}
